{
 "cells": [
  {
   "cell_type": "code",
   "execution_count": null,
   "metadata": {},
   "outputs": [],
   "source": [
    "import spacy"
   ]
  },
  {
   "cell_type": "code",
   "execution_count": 3,
   "metadata": {},
   "outputs": [],
   "source": [
    "#load best model\n",
    "nlp = spacy.load('training/model-best')"
   ]
  },
  {
   "cell_type": "code",
   "execution_count": 22,
   "metadata": {},
   "outputs": [
    {
     "name": "stdout",
     "output_type": "stream",
     "text": [
      "{'Depression': 0.00013329656212590635, 'PTSD': 8.682703628437594e-05, 'OCD': 0.9994913339614868, 'Eating Disorder': 0.000125917125842534, 'Bipolar Disorder': 0.00010747505439212546, 'BPD': 2.5207358703482896e-05, 'ADHD': 2.9860404538339935e-05}\n"
     ]
    }
   ],
   "source": [
    "#pass an example text to the model and print off the categories. \n",
    "doc = nlp('''\n",
    "things to do to help avoid compulsions. Sitting around and doing nothing is like giving my \n",
    "intrusive thoughts centre stage, so recently I have been carrying round a sudoku book with me to keep my mind busy. However, some of my triggers\n",
    "occur when I am walking, for example I always have to step through a doorway on my right foot, I can't just get out my sudoku while i'm \n",
    "going somewhere so I wanted to ask what other people do to avoid thinking about their compulsions when they're on the move? \n",
    "''')\n",
    "print(doc.cats)"
   ]
  }
 ],
 "metadata": {
  "kernelspec": {
   "display_name": "Python 3.8.8 ('classif_venv': venv)",
   "language": "python",
   "name": "python3"
  },
  "language_info": {
   "codemirror_mode": {
    "name": "ipython",
    "version": 3
   },
   "file_extension": ".py",
   "mimetype": "text/x-python",
   "name": "python",
   "nbconvert_exporter": "python",
   "pygments_lexer": "ipython3",
   "version": "3.8.8"
  },
  "orig_nbformat": 4,
  "vscode": {
   "interpreter": {
    "hash": "e596387ebfbe26ace24c12f4cec8deb9dddd1daa6f113f4e5d6329678f8bbedc"
   }
  }
 },
 "nbformat": 4,
 "nbformat_minor": 2
}
